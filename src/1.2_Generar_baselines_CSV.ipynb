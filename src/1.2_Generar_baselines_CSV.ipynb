{
 "cells": [
  {
   "cell_type": "code",
   "execution_count": 1,
   "metadata": {
    "scrolled": true
   },
   "outputs": [],
   "source": [
    "from os import path\n",
    "from csv_creator import AutoencoderCsvCreator\n",
    "from experiments_configuration import AutoencoderConfiguration\n",
    "\n",
    "\n",
    "CSV_ROOT_DIR = 'CSV_results'\n",
    "\n",
    "\n",
    "def create_CSV_files_from_experiment(csv_creator, base_directory, csv_base_directory, architecture):\n",
    "    csv_directory = path.join(base_directory, csv_base_directory, architecture)\n",
    "    csv_creator.combine_csv_files_from_experiment(\n",
    "        data_directory = path.join(base_directory, '{}_base'.format(architecture)), \n",
    "        results_directory = csv_directory\n",
    "    )\n",
    "    sumup_directory = path.join(base_directory, csv_base_directory)\n",
    "    sumup_filename = path.join(sumup_directory, '{}_resumen_base.csv'.format(architecture))\n",
    "    csv_creator.sum_up_csv_files(csv_directory, sumup_filename)\n",
    "\n",
    "    \n",
    "\n",
    "def create_CSV_files_for_autoencoder(root_dir, autoencoder_type, intermediate, bottleneck, prefixes, windows):\n",
    "    create_CSV_files_from_experiment(\n",
    "        AutoencoderCsvCreator(AutoencoderConfiguration(\n",
    "            autoencoder_type,\n",
    "            prefixes, \n",
    "            intermediate=[intermediate],\n",
    "            bottleneck=[bottleneck],\n",
    "            windows=windows,\n",
    "            getting_baseline=True\n",
    "        )), \n",
    "        path.join(root_dir),\n",
    "        CSV_ROOT_DIR,\n",
    "        autoencoder_type\n",
    "    )\n"
   ]
  },
  {
   "cell_type": "markdown",
   "metadata": {},
   "source": [
    "## Senoidales"
   ]
  },
  {
   "cell_type": "code",
   "execution_count": 2,
   "metadata": {},
   "outputs": [
    {
     "name": "stdout",
     "output_type": "stream",
     "text": [
      "Finished !! 300 models\n",
      "Finished !! 300 models\n"
     ]
    }
   ],
   "source": [
    "from csv_creator import MLP2CsvCreator, MLP3CsvCreator\n",
    "from experiments_configuration import MLP2Configuration, MLP3Configuration, get_senoidal_prefixes, get_senoidal_windows\n",
    "\n",
    "ROOT_DIR = path.join('1_series_periodicas')\n",
    "\n",
    "\n",
    "\n",
    "create_CSV_files_from_experiment(\n",
    "    MLP3CsvCreator(MLP3Configuration(\n",
    "        get_senoidal_prefixes(), \n",
    "        layer1_units=[25],\n",
    "        layer2_units=[15],\n",
    "        dropout_rate=[0.2],\n",
    "        windows=get_senoidal_windows(),\n",
    "        getting_baseline=True\n",
    "    )), \n",
    "    ROOT_DIR,\n",
    "    CSV_ROOT_DIR,\n",
    "    'MLP3'\n",
    ")\n",
    "\n",
    "create_CSV_files_from_experiment(\n",
    "    MLP2CsvCreator(MLP2Configuration(\n",
    "        get_senoidal_prefixes(), \n",
    "        layer1_units=[25],\n",
    "        dropout_rate=[0.3],\n",
    "        windows=get_senoidal_windows(),\n",
    "        getting_baseline=True\n",
    "    )), \n",
    "    ROOT_DIR,\n",
    "    CSV_ROOT_DIR,\n",
    "    'MLP2'\n",
    ")\n"
   ]
  },
  {
   "cell_type": "code",
   "execution_count": 3,
   "metadata": {},
   "outputs": [
    {
     "name": "stdout",
     "output_type": "stream",
     "text": [
      "Finished !! 180 models\n",
      "Finished !! 180 models\n"
     ]
    }
   ],
   "source": [
    "#\n",
    "# Autoencoders\n",
    "#\n",
    "from experiments_configuration import get_senoidal_prefixes, get_senoidal_windows_autoencoder\n",
    "\n",
    "root_dir = '1_series_periodicas'\n",
    "prefixes = get_senoidal_prefixes()\n",
    "windows = get_senoidal_windows_autoencoder()\n",
    "\n",
    "create_CSV_files_for_autoencoder(root_dir, 'AE', 25, 10, prefixes, windows)\n",
    "create_CSV_files_for_autoencoder(root_dir, 'VAE', 25, 15, prefixes, windows)\n",
    "    \n"
   ]
  },
  {
   "cell_type": "markdown",
   "metadata": {},
   "source": [
    "## Naturales"
   ]
  },
  {
   "cell_type": "code",
   "execution_count": 3,
   "metadata": {},
   "outputs": [
    {
     "name": "stdout",
     "output_type": "stream",
     "text": [
      "Finished !! 90 models\n",
      "Finished !! 90 models\n"
     ]
    }
   ],
   "source": [
    "from csv_creator import MLP2CsvCreator, MLP3CsvCreator\n",
    "from experiments_configuration import MLP2Configuration, MLP3Configuration, get_natural_windows, get_natural_prefixes\n",
    "\n",
    "ROOT_DIR = path.join('2_series_naturales')\n",
    "\n",
    "create_CSV_files_from_experiment(\n",
    "    MLP2CsvCreator(MLP2Configuration(\n",
    "        get_natural_prefixes(), \n",
    "        layer1_units=[25],\n",
    "        dropout_rate=[0.3],\n",
    "        windows=get_natural_windows(),\n",
    "        getting_baseline=True\n",
    "    )), \n",
    "    ROOT_DIR,\n",
    "    CSV_ROOT_DIR,\n",
    "    'MLP2'\n",
    ")\n",
    "\n",
    "\n",
    "create_CSV_files_from_experiment(\n",
    "    MLP3CsvCreator(MLP3Configuration(\n",
    "        get_natural_prefixes(), \n",
    "        layer1_units=[25],\n",
    "        layer2_units=[10],\n",
    "        dropout_rate=[0.2],\n",
    "        windows=get_natural_windows(),\n",
    "        getting_baseline=True\n",
    "    )), \n",
    "    ROOT_DIR,\n",
    "    CSV_ROOT_DIR,\n",
    "    'MLP3'\n",
    ")"
   ]
  },
  {
   "cell_type": "code",
   "execution_count": 4,
   "metadata": {},
   "outputs": [
    {
     "name": "stdout",
     "output_type": "stream",
     "text": [
      "Finished !! 72 models\n",
      "Finished !! 72 models\n"
     ]
    }
   ],
   "source": [
    "#\n",
    "# Autoencoders\n",
    "#\n",
    "from experiments_configuration import get_natural_prefixes, get_natural_windows_autoencoder\n",
    "\n",
    "root_dir = '2_series_naturales'\n",
    "prefixes = get_natural_prefixes()\n",
    "windows = get_natural_windows_autoencoder()\n",
    "\n",
    "create_CSV_files_for_autoencoder(root_dir, 'AE', 20, 10, prefixes, windows)\n",
    "create_CSV_files_for_autoencoder(root_dir, 'VAE', 25, 15, prefixes, windows)\n",
    "    "
   ]
  },
  {
   "cell_type": "code",
   "execution_count": null,
   "metadata": {},
   "outputs": [],
   "source": []
  }
 ],
 "metadata": {
  "kernelspec": {
   "display_name": "Python 3",
   "language": "python",
   "name": "python3"
  },
  "language_info": {
   "codemirror_mode": {
    "name": "ipython",
    "version": 3
   },
   "file_extension": ".py",
   "mimetype": "text/x-python",
   "name": "python",
   "nbconvert_exporter": "python",
   "pygments_lexer": "ipython3",
   "version": "3.8.5"
  }
 },
 "nbformat": 4,
 "nbformat_minor": 4
}
