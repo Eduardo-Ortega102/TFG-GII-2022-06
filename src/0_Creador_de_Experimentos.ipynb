{
 "cells": [
  {
   "cell_type": "markdown",
   "metadata": {},
   "source": [
    "# 1. Perceptron"
   ]
  },
  {
   "cell_type": "markdown",
   "metadata": {},
   "source": [
    "## Senoidales"
   ]
  },
  {
   "cell_type": "code",
   "execution_count": 1,
   "metadata": {},
   "outputs": [
    {
     "name": "stdout",
     "output_type": "stream",
     "text": [
      "53 files moved!\n",
      "Amount of experiments: 5400 (the half is 2700)\n",
      "Downloaded experiments: 5400\n",
      "Remaining experiments: 0\n"
     ]
    }
   ],
   "source": [
    "#####\n",
    "##### Here I create function calls to be executed in Colab\n",
    "#####\n",
    "from experiments_creator import ExperimentsCreator\n",
    "from experiments_configuration import MLP2Configuration, MLP3Configuration, get_senoidal_windows, get_senoidal_prefixes\n",
    "from utilities import move_experiments_to_directory\n",
    "from os import path\n",
    "\n",
    "\n",
    "#directory = path.join('1_series_periodicas', 'MLP2')\n",
    "#configuration = MLP2Configuration(get_senoidal_prefixes(), windows=get_senoidal_windows())\n",
    "directory = path.join('1_series_periodicas', 'MLP3')\n",
    "configuration = MLP3Configuration(get_senoidal_prefixes(), windows=get_senoidal_windows())\n",
    "\n",
    "move_experiments_to_directory(\n",
    "    path.join('1_series_periodicas', 'results'),\n",
    "    directory,\n",
    "    configuration\n",
    ")\n",
    "\n",
    "#ExperimentsCreator(configuration).generate_functions_calls(directory, 'run_MLP2_experiment', 70)\n",
    "ExperimentsCreator(configuration).generate_functions_calls(directory, 'run_MLP3_experiment', 70)\n",
    "\n"
   ]
  },
  {
   "cell_type": "code",
   "execution_count": 1,
   "metadata": {},
   "outputs": [
    {
     "name": "stdout",
     "output_type": "stream",
     "text": [
      "300 files moved!\n",
      "Amount of experiments: 300 (the half is 150)\n",
      "Downloaded experiments: 300\n",
      "Remaining experiments: 0\n",
      "300 files moved!\n",
      "Amount of experiments: 300 (the half is 150)\n",
      "Downloaded experiments: 300\n",
      "Remaining experiments: 0\n"
     ]
    }
   ],
   "source": [
    "#####\n",
    "##### Here I create function calls to get baselines\n",
    "#####\n",
    "from experiments_creator import ExperimentsCreator\n",
    "from experiments_configuration import MLP2Configuration, MLP3Configuration, get_senoidal_windows, get_senoidal_prefixes\n",
    "from os import path\n",
    "from utilities import move_experiments_to_directory\n",
    "\n",
    "\n",
    "directory = path.join('1_series_periodicas', 'MLP2_base')\n",
    "configuration = MLP2Configuration(\n",
    "    get_senoidal_prefixes(), \n",
    "    layer1_units=[25],\n",
    "    dropout_rate=[0.3],\n",
    "    windows=get_senoidal_windows()\n",
    ")\n",
    "move_experiments_to_directory(\n",
    "    path.join('1_series_periodicas', 'results'),\n",
    "    directory,\n",
    "    configuration\n",
    ")\n",
    "ExperimentsCreator(\n",
    "    configuration, \n",
    "    skip_training=True\n",
    ").generate_functions_calls(directory, 'run_MLP2_experiment', 6)\n",
    "\n",
    "\n",
    "directory = path.join('1_series_periodicas', 'MLP3_base')\n",
    "configuration = MLP3Configuration(\n",
    "    get_senoidal_prefixes(), \n",
    "    layer1_units=[25],\n",
    "    layer2_units=[15],\n",
    "    dropout_rate=[0.2],\n",
    "    windows=get_senoidal_windows()\n",
    ")\n",
    "move_experiments_to_directory(\n",
    "    path.join('1_series_periodicas', 'results'),\n",
    "    directory,\n",
    "    configuration\n",
    ")\n",
    "ExperimentsCreator(\n",
    "    configuration, \n",
    "    skip_training=True\n",
    ").generate_functions_calls(directory, 'run_MLP3_experiment', 6, batch_number=7)\n",
    "\n"
   ]
  },
  {
   "cell_type": "markdown",
   "metadata": {},
   "source": [
    "# Naturales"
   ]
  },
  {
   "cell_type": "code",
   "execution_count": 1,
   "metadata": {},
   "outputs": [
    {
     "name": "stdout",
     "output_type": "stream",
     "text": [
      "19 files moved!\n",
      "Amount of experiments: 1620 (the half is 810)\n",
      "Downloaded experiments: 1620\n",
      "Remaining experiments: 0\n"
     ]
    }
   ],
   "source": [
    "#####\n",
    "##### Here I create function calls to be executed in Colab\n",
    "#####\n",
    "from experiments_creator import ExperimentsCreator\n",
    "from experiments_configuration import MLP2Configuration, MLP3Configuration, get_natural_prefixes, get_natural_windows\n",
    "from os import path\n",
    "from utilities import move_experiments_to_directory\n",
    "\n",
    "#directory = path.join('2_series_naturales', 'MLP2')\n",
    "#configuration = MLP2Configuration(get_natural_prefixes(), windows=get_natural_windows())\n",
    "directory = path.join('2_series_naturales', 'MLP3')\n",
    "configuration = MLP3Configuration(get_natural_prefixes(), windows=get_natural_windows())\n",
    "\n",
    "move_experiments_to_directory(\n",
    "    path.join('2_series_naturales', 'results'),\n",
    "    directory,\n",
    "    configuration\n",
    ")\n",
    "\n",
    "#ExperimentsCreator(configuration).generate_functions_calls(directory, 'run_MLP2_experiment', 70)\n",
    "ExperimentsCreator(configuration).generate_functions_calls(directory, 'run_MLP3_experiment', 70)\n"
   ]
  },
  {
   "cell_type": "code",
   "execution_count": 1,
   "metadata": {},
   "outputs": [
    {
     "name": "stdout",
     "output_type": "stream",
     "text": [
      "60 files moved!\n",
      "Amount of experiments: 90 (the half is 45)\n",
      "Downloaded experiments: 90\n",
      "Remaining experiments: 0\n",
      "60 files moved!\n",
      "Amount of experiments: 90 (the half is 45)\n",
      "Downloaded experiments: 90\n",
      "Remaining experiments: 0\n"
     ]
    }
   ],
   "source": [
    "#####\n",
    "##### Here I create function calls to get baselines\n",
    "#####\n",
    "from experiments_creator import ExperimentsCreator\n",
    "from experiments_configuration import MLP2Configuration, MLP3Configuration, get_natural_prefixes, get_natural_windows\n",
    "from os import path\n",
    "from utilities import move_experiments_to_directory\n",
    "\n",
    "\n",
    "directory = path.join('2_series_naturales', 'MLP2_base')\n",
    "configuration = MLP2Configuration(\n",
    "    get_natural_prefixes(), \n",
    "    layer1_units=[25],\n",
    "    dropout_rate=[0.3],\n",
    "    windows=get_natural_windows()\n",
    ")\n",
    "move_experiments_to_directory(\n",
    "    path.join('2_series_naturales', 'results'),\n",
    "    directory,\n",
    "    configuration\n",
    ")\n",
    "ExperimentsCreator(\n",
    "    configuration, \n",
    "    skip_training=True\n",
    ").generate_functions_calls(directory, 'run_MLP2_experiment', 12)\n",
    "\n",
    "\n",
    "directory = path.join('2_series_naturales', 'MLP3_base')\n",
    "configuration = MLP3Configuration(\n",
    "    get_natural_prefixes(), \n",
    "    layer1_units=[25],\n",
    "    layer2_units=[10],\n",
    "    dropout_rate=[0.2],\n",
    "    windows=get_natural_windows()\n",
    ")\n",
    "move_experiments_to_directory(\n",
    "    path.join('2_series_naturales', 'results'),\n",
    "    directory,\n",
    "    configuration\n",
    ")\n",
    "ExperimentsCreator(\n",
    "    configuration, \n",
    "    skip_training=True\n",
    ").generate_functions_calls(directory, 'run_MLP3_experiment', 12, batch_number=13)\n",
    "\n"
   ]
  },
  {
   "cell_type": "markdown",
   "metadata": {},
   "source": [
    "# 2. Autoencoder"
   ]
  },
  {
   "cell_type": "markdown",
   "metadata": {},
   "source": [
    "## Senoidales"
   ]
  },
  {
   "cell_type": "code",
   "execution_count": 1,
   "metadata": {},
   "outputs": [
    {
     "name": "stdout",
     "output_type": "stream",
     "text": [
      "1620 files moved!\n",
      "Amount of experiments: 1620 (the half is 810)\n",
      "Downloaded experiments: 1620\n",
      "Remaining experiments: 0\n"
     ]
    }
   ],
   "source": [
    "#####\n",
    "##### Here I create function calls to be executed in Colab\n",
    "#####\n",
    "from experiments_creator import ExperimentsCreator\n",
    "from experiments_configuration import AutoencoderConfiguration, get_senoidal_prefixes, get_senoidal_windows_autoencoder\n",
    "from os import path\n",
    "from utilities import move_experiments_to_directory\n",
    "\n",
    "# AUTOENCODER_TYPE = 'AE'\n",
    "AUTOENCODER_TYPE = 'VAE'\n",
    "\n",
    "directory = path.join('1_series_periodicas', AUTOENCODER_TYPE)\n",
    "configuration = AutoencoderConfiguration(\n",
    "    AUTOENCODER_TYPE, \n",
    "    get_senoidal_prefixes(), \n",
    "    intermediate=[25, 20, 15],\n",
    "    bottleneck=[15, 10, 5],\n",
    "    windows=get_senoidal_windows_autoencoder()\n",
    ")\n",
    "\n",
    "move_experiments_to_directory(\n",
    "    path.join('1_series_periodicas', 'results'),\n",
    "    directory,\n",
    "    configuration\n",
    ")\n",
    "\n",
    "ExperimentsCreator(configuration).generate_functions_calls(directory, 'run_{}_experiment'.format(AUTOENCODER_TYPE), 70)"
   ]
  },
  {
   "cell_type": "markdown",
   "metadata": {},
   "source": [
    "## Naturales"
   ]
  },
  {
   "cell_type": "code",
   "execution_count": 1,
   "metadata": {},
   "outputs": [
    {
     "name": "stdout",
     "output_type": "stream",
     "text": [
      "67 files moved!\n",
      "Amount of experiments: 648 (the half is 324)\n",
      "Downloaded experiments: 648\n",
      "Remaining experiments: 0\n"
     ]
    }
   ],
   "source": [
    "#####\n",
    "##### Here I create function calls to be executed in Colab\n",
    "#####\n",
    "from experiments_creator import ExperimentsCreator\n",
    "from experiments_configuration import AutoencoderConfiguration, get_natural_windows_autoencoder, get_natural_prefixes\n",
    "from os import path\n",
    "from utilities import move_experiments_to_directory\n",
    "\n",
    "# AUTOENCODER_TYPE = 'AE'\n",
    "AUTOENCODER_TYPE = 'VAE'\n",
    "\n",
    "directory = path.join('2_series_naturales', AUTOENCODER_TYPE)\n",
    "configuration = AutoencoderConfiguration(\n",
    "    AUTOENCODER_TYPE, \n",
    "    get_natural_prefixes(), \n",
    "    intermediate=[25, 20, 15],\n",
    "    bottleneck=[15, 10, 5],\n",
    "    windows=get_natural_windows_autoencoder()\n",
    ")\n",
    "\n",
    "move_experiments_to_directory(\n",
    "    path.join('2_series_naturales', 'results'),\n",
    "    directory,\n",
    "    configuration\n",
    ")\n",
    "\n",
    "ExperimentsCreator(configuration).generate_functions_calls(directory, 'run_{}_experiment'.format(AUTOENCODER_TYPE), 70)\n"
   ]
  },
  {
   "cell_type": "code",
   "execution_count": 1,
   "metadata": {},
   "outputs": [],
   "source": [
    "#####\n",
    "##### Here I create function calls to get baselines\n",
    "#####\n",
    "from experiments_creator import ExperimentsCreator\n",
    "from experiments_configuration import AutoencoderConfiguration\n",
    "from os import path\n",
    "from utilities import move_experiments_to_directory\n",
    "\n",
    "\n",
    "def generate_baselines_for_autoencoder(root_directory, autoencoder_type, intermediate, bottleneck, prefixes, windows, start):\n",
    "    directory = path.join(root_directory, '{}_base'.format(autoencoder_type))\n",
    "    configuration = AutoencoderConfiguration(\n",
    "        autoencoder_type, \n",
    "        prefixes, \n",
    "        intermediate=[intermediate],\n",
    "        bottleneck=[bottleneck],\n",
    "        windows=windows\n",
    "    )\n",
    "    move_experiments_to_directory(\n",
    "        path.join(root_directory, 'results'),\n",
    "        directory,\n",
    "        configuration\n",
    "    )\n",
    "    ExperimentsCreator(\n",
    "        configuration,\n",
    "        skip_training=True\n",
    "    ).generate_functions_calls(directory, 'run_{}_experiment'.format(autoencoder_type), 5, batch_number=start)\n"
   ]
  },
  {
   "cell_type": "code",
   "execution_count": 2,
   "metadata": {},
   "outputs": [
    {
     "name": "stdout",
     "output_type": "stream",
     "text": [
      "180 files moved!\n",
      "Amount of experiments: 180 (the half is 90)\n",
      "Downloaded experiments: 180\n",
      "Remaining experiments: 0\n",
      "180 files moved!\n",
      "Amount of experiments: 180 (the half is 90)\n",
      "Downloaded experiments: 180\n",
      "Remaining experiments: 0\n"
     ]
    }
   ],
   "source": [
    "#\n",
    "# Baseline for senoidales\n",
    "#\n",
    "from experiments_configuration import get_senoidal_prefixes, get_senoidal_windows_autoencoder\n",
    "\n",
    "root_dir = '1_series_periodicas'\n",
    "prefixes = get_senoidal_prefixes()\n",
    "windows = get_senoidal_windows_autoencoder()\n",
    "\n",
    "generate_baselines_for_autoencoder(root_dir, 'AE', 25, 10, prefixes, windows, 1)\n",
    "generate_baselines_for_autoencoder(root_dir, 'VAE', 25, 15, prefixes, windows, 46)\n"
   ]
  },
  {
   "cell_type": "code",
   "execution_count": 3,
   "metadata": {},
   "outputs": [
    {
     "name": "stdout",
     "output_type": "stream",
     "text": [
      "72 files moved!\n",
      "Amount of experiments: 72 (the half is 36)\n",
      "Downloaded experiments: 72\n",
      "Remaining experiments: 0\n",
      "72 files moved!\n",
      "Amount of experiments: 72 (the half is 36)\n",
      "Downloaded experiments: 72\n",
      "Remaining experiments: 0\n"
     ]
    }
   ],
   "source": [
    "#\n",
    "# Baseline for naturales\n",
    "#\n",
    "from experiments_configuration import get_natural_prefixes, get_natural_windows_autoencoder\n",
    "\n",
    "root_dir = '2_series_naturales'\n",
    "prefixes = get_natural_prefixes()\n",
    "windows = get_natural_windows_autoencoder()\n",
    "\n",
    "generate_baselines_for_autoencoder(root_dir, 'AE', 20, 10, prefixes, windows, 1)\n",
    "generate_baselines_for_autoencoder(root_dir, 'VAE', 25, 15, prefixes, windows, 46)"
   ]
  },
  {
   "cell_type": "code",
   "execution_count": null,
   "metadata": {},
   "outputs": [],
   "source": []
  }
 ],
 "metadata": {
  "kernelspec": {
   "display_name": "Python 3",
   "language": "python",
   "name": "python3"
  },
  "language_info": {
   "codemirror_mode": {
    "name": "ipython",
    "version": 3
   },
   "file_extension": ".py",
   "mimetype": "text/x-python",
   "name": "python",
   "nbconvert_exporter": "python",
   "pygments_lexer": "ipython3",
   "version": "3.8.5"
  },
  "toc": {
   "base_numbering": 1,
   "nav_menu": {},
   "number_sections": true,
   "sideBar": true,
   "skip_h1_title": false,
   "title_cell": "Table of Contents",
   "title_sidebar": "Contents",
   "toc_cell": false,
   "toc_position": {},
   "toc_section_display": true,
   "toc_window_display": false
  }
 },
 "nbformat": 4,
 "nbformat_minor": 4
}
