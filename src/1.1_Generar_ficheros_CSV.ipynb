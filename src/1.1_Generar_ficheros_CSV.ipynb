{
 "cells": [
  {
   "cell_type": "markdown",
   "metadata": {},
   "source": [
    "# Re-evaluación de los modelos"
   ]
  },
  {
   "cell_type": "code",
   "execution_count": 14,
   "metadata": {},
   "outputs": [],
   "source": [
    "import pandas\n",
    "import numpy as np\n",
    "from os import path, remove\n",
    "from tensorflow.keras.models import load_model\n",
    "from reporter import Reporter\n",
    "from csv_creator import extract_files_from_zip\n",
    "from datetime import datetime\n",
    "\n",
    "\n",
    "CSV_VERSION = 'V2'\n",
    "\n",
    "\n",
    "def load_test_set(experiment_folder, experiment_name):\n",
    "    npzfile = np.load(path.join(experiment_folder, '{}_test.npz'.format(experiment_name)))\n",
    "    return npzfile['X_test'], npzfile['y_test']\n",
    "\n",
    "\n",
    "def evaluate_all_models(experiment_folder, experiment_name, window_length, displacement):\n",
    "    X_test, y_test = load_test_set(experiment_folder, experiment_name)\n",
    "    dataframe = pandas.DataFrame(columns=['ventana', 'desplazamiento', 'id_modelo', 'TP', 'FN', 'TN', 'FP', 'MCC'])\n",
    "    for model_id in np.arange(10):\n",
    "        model = load_model(path.join(\n",
    "            experiment_folder,\n",
    "            '{}_MOD{}.h5'.format(experiment_name, model_id)\n",
    "        ))\n",
    "        reporter = Reporter(['normal', 'anomaly'], y_test, model.predict(X_test))\n",
    "        dataframe.loc[model_id] = [window_length, displacement, model_id] + reporter.get_confusion_matrix()\n",
    "    return dataframe\n",
    "\n",
    "\n",
    "def evaluate_all_experiments(data_directory, configuration):\n",
    "    count = 0\n",
    "    skipped = 0\n",
    "    for zip_file, parameters in configuration.get_experiments(): \n",
    "        window_length = parameters[-2]\n",
    "        displacement  = parameters[-1]\n",
    "        experiment_folder, experiment_name = extract_files_from_zip(zip_file, data_directory)\n",
    "        csv_file = path.join(experiment_folder, '{}_{}.csv'.format(experiment_name, CSV_VERSION))\n",
    "        if path.exists(csv_file):\n",
    "            count += 1\n",
    "            print('Existe {}'.format(experiment_name))\n",
    "            continue        \n",
    "        if displacement == 1:\n",
    "            skipped += 1\n",
    "            continue\n",
    "        count += 1\n",
    "        start = datetime.now()\n",
    "        dataframe = evaluate_all_models(experiment_folder, experiment_name, window_length, displacement)\n",
    "        dataframe.to_csv(csv_file, index=False, sep=';', decimal=',')\n",
    "        print(\n",
    "            'Hechos: {}, Ultimo tiempo (V {}, D {}): {}'.format(\n",
    "                count, \n",
    "                window_length, \n",
    "                displacement, \n",
    "                (datetime.now() - start))\n",
    "        )\n",
    "    print('Saltados: {}'.format(skipped))\n",
    "\n"
   ]
  },
  {
   "cell_type": "code",
   "execution_count": null,
   "metadata": {
    "scrolled": false
   },
   "outputs": [],
   "source": [
    "from experiments_configuration import MLP2Configuration, MLP3Configuration, get_natural_prefixes, get_natural_windows\n",
    "\n",
    "print('Re-evaluando naturales...1: {}'.format(datetime.now()))\n",
    "evaluate_all_experiments(\n",
    "    data_directory=path.join('2_series_naturales', 'MLP2'), \n",
    "    configuration=MLP2Configuration(get_natural_prefixes(), windows=get_natural_windows())\n",
    ")\n",
    "print('Re-evaluando naturales...2: {}'.format(datetime.now()))\n",
    "evaluate_all_experiments(\n",
    "    data_directory=path.join('2_series_naturales', 'MLP3'), \n",
    "    configuration=MLP3Configuration(get_natural_prefixes(), windows=get_natural_windows())\n",
    ")\n",
    "print('Re-evaluando naturales...3: {}'.format(datetime.now()))"
   ]
  },
  {
   "cell_type": "code",
   "execution_count": null,
   "metadata": {},
   "outputs": [],
   "source": [
    "from experiments_configuration import MLP2Configuration, MLP3Configuration, get_senoidal_prefixes, get_senoidal_windows\n",
    "\n",
    "\n",
    "print('Re-evaluando senoidales...1: {}'.format(datetime.now()))\n",
    "evaluate_all_experiments(\n",
    "    data_directory=path.join('1_series_periodicas', 'MLP2'), \n",
    "    configuration=MLP2Configuration(get_senoidal_prefixes(), windows=get_senoidal_windows())\n",
    ")\n",
    "print('Re-evaluando senoidales...2: {}'.format(datetime.now()))\n",
    "evaluate_all_experiments(\n",
    "    data_directory=path.join('1_series_periodicas', 'MLP3'), \n",
    "    configuration=MLP3Configuration(get_senoidal_prefixes(), windows=get_senoidal_windows())\n",
    ")\n",
    "print('Re-evaluando senoidales...3: {}'.format(datetime.now()))\n",
    "\n"
   ]
  },
  {
   "cell_type": "markdown",
   "metadata": {},
   "source": [
    "# CSV senoidales"
   ]
  },
  {
   "cell_type": "code",
   "execution_count": 1,
   "metadata": {},
   "outputs": [],
   "source": [
    "from os import path\n",
    "\n",
    "def create_CSV_files_from_experiment(csv_creator, base_directory, csv_base_directory, architecture,legend_function):\n",
    "    experiments_directory = path.join(base_directory, architecture)\n",
    "    csv_directory = path.join(base_directory, csv_base_directory, architecture)\n",
    "    \n",
    "    csv_creator.combine_csv_files_from_experiment(\n",
    "        experiments_directory, \n",
    "        csv_directory, \n",
    "    )\n",
    "    sumup_directory = path.join(base_directory, csv_base_directory)\n",
    "    sumup_filename = path.join(sumup_directory, '{}_resumen.csv'.format(architecture))\n",
    "    csv_creator.sum_up_csv_files(csv_directory, sumup_filename)\n",
    "    csv_creator.find_best_models(\n",
    "        sumup_filename,\n",
    "        path.join(sumup_directory, '{}_tabla_mejores_modelos.csv'.format(architecture)),\n",
    "        legend_function\n",
    "    )\n",
    "    "
   ]
  },
  {
   "cell_type": "markdown",
   "metadata": {},
   "source": [
    "### MLP 2 capas"
   ]
  },
  {
   "cell_type": "code",
   "execution_count": 2,
   "metadata": {},
   "outputs": [
    {
     "name": "stdout",
     "output_type": "stream",
     "text": [
      "Finished !! 1800 models\n",
      "Mejores modelos (promedio)... (1_series_periodicas\\CSV_results\\MLP2_resumen.csv)\n",
      "Mejor para 1.1% anomalías, Senoidal Simple : 25 0.2 ... 0.90\n",
      "Mejor para 1.1% anomalías, Senoidal Simple (ruido 2.5%): 25 0.2 ... 0.81\n",
      "Mejor para 1.1% anomalías, Senoidal Simple (ruido 5%): 25 0.3 ... 0.73\n",
      "Mejor para 1.1% anomalías, Senoidal Simple (ruido 10%): 25 0.2 ... 0.63\n",
      "Mejor para 1.1% anomalías, Senoidal Simple (ruido 20%): 25 0.2 ... 0.48\n",
      "Mejor para 2% anomalías, Senoidal Simple : 25 0.3 ... 0.80\n",
      "Mejor para 2% anomalías, Senoidal Simple (ruido 2.5%): 25 0.2 ... 0.75\n",
      "Mejor para 2% anomalías, Senoidal Simple (ruido 5%): 25 0.2 ... 0.70\n",
      "Mejor para 2% anomalías, Senoidal Simple (ruido 10%): 25 0.2 ... 0.60\n",
      "Mejor para 2% anomalías, Senoidal Simple (ruido 20%): 25 0.3 ... 0.42\n",
      "Mejor para 1.1% anomalías, Senoidal Combinada : 25 0.2 ... 0.83\n",
      "Mejor para 1.1% anomalías, Senoidal Combinada (ruido 2.5%): 25 0.2 ... 0.77\n",
      "Mejor para 1.1% anomalías, Senoidal Combinada (ruido 5%): 25 0.3 ... 0.70\n",
      "Mejor para 1.1% anomalías, Senoidal Combinada (ruido 10%): 25 0.2 ... 0.62\n",
      "Mejor para 1.1% anomalías, Senoidal Combinada (ruido 20%): 25 0.2 ... 0.47\n",
      "Mejor para 2% anomalías, Senoidal Combinada : 25 0.3 ... 0.76\n",
      "Mejor para 2% anomalías, Senoidal Combinada (ruido 2.5%): 25 0.3 ... 0.72\n",
      "Mejor para 2% anomalías, Senoidal Combinada (ruido 5%): 25 0.3 ... 0.68\n",
      "Mejor para 2% anomalías, Senoidal Combinada (ruido 10%): 25 0.3 ... 0.57\n",
      "Mejor para 2% anomalías, Senoidal Combinada (ruido 20%): 25 0.2 ... 0.43\n",
      "Mejores modelos (mejor caso)... (1_series_periodicas\\CSV_results\\MLP2_resumen.csv)\n",
      "Mejor para 1.1% anomalías, Senoidal Simple : 25 0.2 ... 0.98\n",
      "Mejor para 1.1% anomalías, Senoidal Simple (ruido 2.5%): 25 0.3 ... 0.97\n",
      "Mejor para 1.1% anomalías, Senoidal Simple (ruido 5%): 25 0.2 ... 0.91\n",
      "Mejor para 1.1% anomalías, Senoidal Simple (ruido 10%): 20 0.2 ... 0.86\n",
      "Mejor para 1.1% anomalías, Senoidal Simple (ruido 20%): 25 0.2 ... 0.76\n",
      "Mejor para 2% anomalías, Senoidal Simple : 20 0.3 ... 0.99\n",
      "Mejor para 2% anomalías, Senoidal Simple (ruido 2.5%): 25 0.3 ... 0.95\n",
      "Mejor para 2% anomalías, Senoidal Simple (ruido 5%): 25 0.3 ... 0.93\n",
      "Mejor para 2% anomalías, Senoidal Simple (ruido 10%): 20 0.2 ... 0.85\n",
      "Mejor para 2% anomalías, Senoidal Simple (ruido 20%): 25 0.3 ... 0.71\n",
      "Mejor para 1.1% anomalías, Senoidal Combinada : 20 0.3 ... 0.99\n",
      "Mejor para 1.1% anomalías, Senoidal Combinada (ruido 2.5%): 25 0.3 ... 0.95\n",
      "Mejor para 1.1% anomalías, Senoidal Combinada (ruido 5%): 25 0.2 ... 0.92\n",
      "Mejor para 1.1% anomalías, Senoidal Combinada (ruido 10%): 25 0.2 ... 0.84\n",
      "Mejor para 1.1% anomalías, Senoidal Combinada (ruido 20%): 25 0.2 ... 0.73\n",
      "Mejor para 2% anomalías, Senoidal Combinada : 25 0.2 ... 0.99\n",
      "Mejor para 2% anomalías, Senoidal Combinada (ruido 2.5%): 25 0.3 ... 0.97\n",
      "Mejor para 2% anomalías, Senoidal Combinada (ruido 5%): 25 0.2 ... 0.95\n",
      "Mejor para 2% anomalías, Senoidal Combinada (ruido 10%): 25 0.2 ... 0.82\n",
      "Mejor para 2% anomalías, Senoidal Combinada (ruido 20%): 25 0.2 ... 0.66\n",
      "Mejor para general: 25 0.3 ... 0.67\n"
     ]
    }
   ],
   "source": [
    "from csv_creator import MLP2CsvCreator\n",
    "from experiments_configuration import MLP2Configuration, get_senoidal_prefixes, get_senoidal_windows\n",
    "from charts import get_legend_label_for_displacements_chart\n",
    "\n",
    "create_CSV_files_from_experiment(\n",
    "    MLP2CsvCreator(MLP2Configuration(get_senoidal_prefixes(), windows=get_senoidal_windows())), \n",
    "    path.join('1_series_periodicas'),\n",
    "    'CSV_results',\n",
    "    'MLP2',\n",
    "    get_legend_label_for_displacements_chart\n",
    ")\n"
   ]
  },
  {
   "cell_type": "markdown",
   "metadata": {},
   "source": [
    "### MLP 3 capas"
   ]
  },
  {
   "cell_type": "code",
   "execution_count": 3,
   "metadata": {},
   "outputs": [
    {
     "name": "stdout",
     "output_type": "stream",
     "text": [
      "Finished !! 5400 models\n",
      "Mejores modelos (promedio)... (1_series_periodicas\\CSV_results\\MLP3_resumen.csv)\n",
      "Mejor para 1.1% anomalías, Senoidal Simple : 25 15 0.2 ... 0.93\n",
      "Mejor para 1.1% anomalías, Senoidal Simple (ruido 2.5%): 25 15 0.2 ... 0.86\n",
      "Mejor para 1.1% anomalías, Senoidal Simple (ruido 5%): 25 15 0.2 ... 0.77\n",
      "Mejor para 1.1% anomalías, Senoidal Simple (ruido 10%): 25 15 0.2 ... 0.69\n",
      "Mejor para 1.1% anomalías, Senoidal Simple (ruido 20%): 25 15 0.2 ... 0.51\n",
      "Mejor para 2% anomalías, Senoidal Simple : 25 15 0.3 ... 0.89\n",
      "Mejor para 2% anomalías, Senoidal Simple (ruido 2.5%): 25 15 0.2 ... 0.83\n",
      "Mejor para 2% anomalías, Senoidal Simple (ruido 5%): 25 15 0.3 ... 0.78\n",
      "Mejor para 2% anomalías, Senoidal Simple (ruido 10%): 25 15 0.2 ... 0.67\n",
      "Mejor para 2% anomalías, Senoidal Simple (ruido 20%): 25 10 0.2 ... 0.48\n",
      "Mejor para 1.1% anomalías, Senoidal Combinada : 25 15 0.2 ... 0.88\n",
      "Mejor para 1.1% anomalías, Senoidal Combinada (ruido 2.5%): 25 15 0.3 ... 0.82\n",
      "Mejor para 1.1% anomalías, Senoidal Combinada (ruido 5%): 25 15 0.2 ... 0.76\n",
      "Mejor para 1.1% anomalías, Senoidal Combinada (ruido 10%): 25 10 0.2 ... 0.66\n",
      "Mejor para 1.1% anomalías, Senoidal Combinada (ruido 20%): 25 15 0.3 ... 0.51\n",
      "Mejor para 2% anomalías, Senoidal Combinada : 25 15 0.2 ... 0.86\n",
      "Mejor para 2% anomalías, Senoidal Combinada (ruido 2.5%): 25 15 0.3 ... 0.81\n",
      "Mejor para 2% anomalías, Senoidal Combinada (ruido 5%): 25 15 0.3 ... 0.75\n",
      "Mejor para 2% anomalías, Senoidal Combinada (ruido 10%): 25 15 0.3 ... 0.62\n",
      "Mejor para 2% anomalías, Senoidal Combinada (ruido 20%): 25 15 0.2 ... 0.49\n",
      "Mejores modelos (mejor caso)... (1_series_periodicas\\CSV_results\\MLP3_resumen.csv)\n",
      "Mejor para 1.1% anomalías, Senoidal Simple : 15 10 0.3 ... 0.99\n",
      "Mejor para 1.1% anomalías, Senoidal Simple (ruido 2.5%): 25 10 0.3 ... 0.97\n",
      "Mejor para 1.1% anomalías, Senoidal Simple (ruido 5%): 20 10 0.2 ... 0.92\n",
      "Mejor para 1.1% anomalías, Senoidal Simple (ruido 10%): 25 15 0.2 ... 0.87\n",
      "Mejor para 1.1% anomalías, Senoidal Simple (ruido 20%): 25 15 0.2 ... 0.78\n",
      "Mejor para 2% anomalías, Senoidal Simple : 15 10 0.3 ... 0.99\n",
      "Mejor para 2% anomalías, Senoidal Simple (ruido 2.5%): 25 10 0.3 ... 0.95\n",
      "Mejor para 2% anomalías, Senoidal Simple (ruido 5%): 25 10 0.3 ... 0.93\n",
      "Mejor para 2% anomalías, Senoidal Simple (ruido 10%): 25 15 0.2 ... 0.86\n",
      "Mejor para 2% anomalías, Senoidal Simple (ruido 20%): 25 10 0.2 ... 0.72\n",
      "Mejor para 1.1% anomalías, Senoidal Combinada : 15 15 0.3 ... 1.00\n",
      "Mejor para 1.1% anomalías, Senoidal Combinada (ruido 2.5%): 25 15 0.3 ... 0.96\n",
      "Mejor para 1.1% anomalías, Senoidal Combinada (ruido 5%): 25 10 0.3 ... 0.94\n",
      "Mejor para 1.1% anomalías, Senoidal Combinada (ruido 10%): 25 10 0.2 ... 0.84\n",
      "Mejor para 1.1% anomalías, Senoidal Combinada (ruido 20%): 25 15 0.2 ... 0.76\n",
      "Mejor para 2% anomalías, Senoidal Combinada : 25 15 0.2 ... 1.00\n",
      "Mejor para 2% anomalías, Senoidal Combinada (ruido 2.5%): 15 10 0.3 ... 0.97\n",
      "Mejor para 2% anomalías, Senoidal Combinada (ruido 5%): 25 10 0.2 ... 0.95\n",
      "Mejor para 2% anomalías, Senoidal Combinada (ruido 10%): 25 15 0.2 ... 0.85\n",
      "Mejor para 2% anomalías, Senoidal Combinada (ruido 20%): 25 15 0.3 ... 0.71\n",
      "Mejor para general: 25 15 0.2 ... 0.73\n"
     ]
    }
   ],
   "source": [
    "from csv_creator import MLP3CsvCreator\n",
    "from experiments_configuration import MLP3Configuration, get_senoidal_prefixes, get_senoidal_windows\n",
    "from charts import get_legend_label_for_displacements_chart\n",
    "\n",
    "create_CSV_files_from_experiment(\n",
    "    MLP3CsvCreator(MLP3Configuration(get_senoidal_prefixes(), windows=get_senoidal_windows())), \n",
    "    path.join('1_series_periodicas'),\n",
    "    'CSV_results',\n",
    "    'MLP3',\n",
    "    get_legend_label_for_displacements_chart\n",
    ")"
   ]
  },
  {
   "cell_type": "markdown",
   "metadata": {},
   "source": [
    "### Autoencoders"
   ]
  },
  {
   "cell_type": "code",
   "execution_count": 5,
   "metadata": {},
   "outputs": [
    {
     "name": "stdout",
     "output_type": "stream",
     "text": [
      "AUTOENCODER TYPE = VAE\n",
      "Finished !! 1620 models\n",
      "Mejores modelos (promedio)... (1_series_periodicas\\CSV_results\\VAE_resumen.csv)\n",
      "Mejor para 1.1% anomalías, Senoidal Simple : 15  5 ... 0.44\n",
      "Mejor para 1.1% anomalías, Senoidal Simple (ruido 2.5%): 15  5 ... 0.43\n",
      "Mejor para 1.1% anomalías, Senoidal Simple (ruido 5%): 15  5 ... 0.40\n",
      "Mejor para 1.1% anomalías, Senoidal Simple (ruido 10%): 20  5 ... 0.35\n",
      "Mejor para 1.1% anomalías, Senoidal Simple (ruido 20%): 25 15 ... 0.30\n",
      "Mejor para 2% anomalías, Senoidal Simple : 15  5 ... 0.20\n",
      "Mejor para 2% anomalías, Senoidal Simple (ruido 2.5%): 15  5 ... 0.20\n",
      "Mejor para 2% anomalías, Senoidal Simple (ruido 5%): 15  5 ... 0.18\n",
      "Mejor para 2% anomalías, Senoidal Simple (ruido 10%): 15  5 ... 0.17\n",
      "Mejor para 2% anomalías, Senoidal Simple (ruido 20%): 15 15 ... 0.12\n",
      "Mejor para 1.1% anomalías, Senoidal Combinada : 15  5 ... 0.16\n",
      "Mejor para 1.1% anomalías, Senoidal Combinada (ruido 2.5%): 15  5 ... 0.16\n",
      "Mejor para 1.1% anomalías, Senoidal Combinada (ruido 5%): 25  5 ... 0.16\n",
      "Mejor para 1.1% anomalías, Senoidal Combinada (ruido 10%): 25  5 ... 0.13\n",
      "Mejor para 1.1% anomalías, Senoidal Combinada (ruido 20%): 15 15 ... 0.10\n",
      "Mejor para 2% anomalías, Senoidal Combinada : 25  5 ... 0.11\n",
      "Mejor para 2% anomalías, Senoidal Combinada (ruido 2.5%): 25  5 ... 0.12\n",
      "Mejor para 2% anomalías, Senoidal Combinada (ruido 5%): 20  5 ... 0.12\n",
      "Mejor para 2% anomalías, Senoidal Combinada (ruido 10%): 15  5 ... 0.10\n",
      "Mejor para 2% anomalías, Senoidal Combinada (ruido 20%): 20  5 ... 0.08\n",
      "Mejores modelos (mejor caso)... (1_series_periodicas\\CSV_results\\VAE_resumen.csv)\n",
      "Mejor para 1.1% anomalías, Senoidal Simple : 15  5 ... 0.69\n",
      "Mejor para 1.1% anomalías, Senoidal Simple (ruido 2.5%): 25  5 ... 0.70\n",
      "Mejor para 1.1% anomalías, Senoidal Simple (ruido 5%): 25  5 ... 0.68\n",
      "Mejor para 1.1% anomalías, Senoidal Simple (ruido 10%): 25  5 ... 0.69\n",
      "Mejor para 1.1% anomalías, Senoidal Simple (ruido 20%): 25  5 ... 0.64\n",
      "Mejor para 2% anomalías, Senoidal Simple : 15 10 ... 0.25\n",
      "Mejor para 2% anomalías, Senoidal Simple (ruido 2.5%): 25 10 ... 0.24\n",
      "Mejor para 2% anomalías, Senoidal Simple (ruido 5%): 15  5 ... 0.25\n",
      "Mejor para 2% anomalías, Senoidal Simple (ruido 10%): 15  5 ... 0.22\n",
      "Mejor para 2% anomalías, Senoidal Simple (ruido 20%): 15  5 ... 0.20\n",
      "Mejor para 1.1% anomalías, Senoidal Combinada : 20  5 ... 0.50\n",
      "Mejor para 1.1% anomalías, Senoidal Combinada (ruido 2.5%): 15  5 ... 0.48\n",
      "Mejor para 1.1% anomalías, Senoidal Combinada (ruido 5%): 15  5 ... 0.47\n",
      "Mejor para 1.1% anomalías, Senoidal Combinada (ruido 10%): 25  5 ... 0.44\n",
      "Mejor para 1.1% anomalías, Senoidal Combinada (ruido 20%): 20  5 ... 0.36\n",
      "Mejor para 2% anomalías, Senoidal Combinada : 20 15 ... 0.34\n",
      "Mejor para 2% anomalías, Senoidal Combinada (ruido 2.5%): 25  5 ... 0.31\n",
      "Mejor para 2% anomalías, Senoidal Combinada (ruido 5%): 25 10 ... 0.34\n",
      "Mejor para 2% anomalías, Senoidal Combinada (ruido 10%): 15  5 ... 0.32\n",
      "Mejor para 2% anomalías, Senoidal Combinada (ruido 20%): 20  5 ... 0.25\n",
      "Mejor para general: 25 15 ... 0.22\n",
      "AUTOENCODER TYPE = AE\n",
      "Finished !! 1620 models\n",
      "Mejores modelos (promedio)... (1_series_periodicas\\CSV_results\\AE_resumen.csv)\n",
      "Mejor para 1.1% anomalías, Senoidal Simple : 20 15 ... 0.75\n",
      "Mejor para 1.1% anomalías, Senoidal Simple (ruido 2.5%): 15  5 ... 0.74\n",
      "Mejor para 1.1% anomalías, Senoidal Simple (ruido 5%): 15 10 ... 0.72\n",
      "Mejor para 1.1% anomalías, Senoidal Simple (ruido 10%): 15  5 ... 0.70\n",
      "Mejor para 1.1% anomalías, Senoidal Simple (ruido 20%): 15  5 ... 0.66\n",
      "Mejor para 2% anomalías, Senoidal Simple : 25 15 ... 0.46\n",
      "Mejor para 2% anomalías, Senoidal Simple (ruido 2.5%): 25 15 ... 0.46\n",
      "Mejor para 2% anomalías, Senoidal Simple (ruido 5%): 25 15 ... 0.46\n",
      "Mejor para 2% anomalías, Senoidal Simple (ruido 10%): 25 15 ... 0.46\n",
      "Mejor para 2% anomalías, Senoidal Simple (ruido 20%): 20  5 ... 0.45\n",
      "Mejor para 1.1% anomalías, Senoidal Combinada : 25 15 ... 0.67\n",
      "Mejor para 1.1% anomalías, Senoidal Combinada (ruido 2.5%): 25 15 ... 0.67\n",
      "Mejor para 1.1% anomalías, Senoidal Combinada (ruido 5%): 20 10 ... 0.67\n",
      "Mejor para 1.1% anomalías, Senoidal Combinada (ruido 10%): 15 10 ... 0.64\n",
      "Mejor para 1.1% anomalías, Senoidal Combinada (ruido 20%): 25  5 ... 0.60\n",
      "Mejor para 2% anomalías, Senoidal Combinada : 25 15 ... 0.48\n",
      "Mejor para 2% anomalías, Senoidal Combinada (ruido 2.5%): 25 15 ... 0.48\n",
      "Mejor para 2% anomalías, Senoidal Combinada (ruido 5%): 25 15 ... 0.48\n",
      "Mejor para 2% anomalías, Senoidal Combinada (ruido 10%): 25 10 ... 0.48\n",
      "Mejor para 2% anomalías, Senoidal Combinada (ruido 20%): 25 10 ... 0.44\n",
      "Mejores modelos (mejor caso)... (1_series_periodicas\\CSV_results\\AE_resumen.csv)\n",
      "Mejor para 1.1% anomalías, Senoidal Simple : 25 15 ... 1.00\n",
      "Mejor para 1.1% anomalías, Senoidal Simple (ruido 2.5%): 15  5 ... 0.97\n",
      "Mejor para 1.1% anomalías, Senoidal Simple (ruido 5%): 20 15 ... 0.93\n",
      "Mejor para 1.1% anomalías, Senoidal Simple (ruido 10%): 20  5 ... 0.85\n",
      "Mejor para 1.1% anomalías, Senoidal Simple (ruido 20%): 20 10 ... 0.76\n",
      "Mejor para 2% anomalías, Senoidal Simple : 25 15 ... 0.67\n",
      "Mejor para 2% anomalías, Senoidal Simple (ruido 2.5%): 25 15 ... 0.67\n",
      "Mejor para 2% anomalías, Senoidal Simple (ruido 5%): 25 15 ... 0.67\n",
      "Mejor para 2% anomalías, Senoidal Simple (ruido 10%): 25 15 ... 0.67\n",
      "Mejor para 2% anomalías, Senoidal Simple (ruido 20%): 15  5 ... 0.66\n",
      "Mejor para 1.1% anomalías, Senoidal Combinada : 25 15 ... 0.92\n",
      "Mejor para 1.1% anomalías, Senoidal Combinada (ruido 2.5%): 25 15 ... 0.92\n",
      "Mejor para 1.1% anomalías, Senoidal Combinada (ruido 5%): 25 15 ... 0.92\n",
      "Mejor para 1.1% anomalías, Senoidal Combinada (ruido 10%): 20  5 ... 0.85\n",
      "Mejor para 1.1% anomalías, Senoidal Combinada (ruido 20%): 20  5 ... 0.73\n",
      "Mejor para 2% anomalías, Senoidal Combinada : 25 15 ... 0.71\n",
      "Mejor para 2% anomalías, Senoidal Combinada (ruido 2.5%): 25 15 ... 0.71\n",
      "Mejor para 2% anomalías, Senoidal Combinada (ruido 5%): 25 15 ... 0.71\n",
      "Mejor para 2% anomalías, Senoidal Combinada (ruido 10%): 25  5 ... 0.71\n",
      "Mejor para 2% anomalías, Senoidal Combinada (ruido 20%): 20  5 ... 0.66\n",
      "Mejor para general: 25 10 ... 0.57\n"
     ]
    }
   ],
   "source": [
    "from csv_creator import AutoencoderCsvCreator\n",
    "from experiments_configuration import AutoencoderConfiguration, get_senoidal_prefixes, get_senoidal_windows_autoencoder\n",
    "from charts import get_legend_label_for_displacements_chart\n",
    "\n",
    "\n",
    "for autoencoder_type in ['VAE', 'AE']:\n",
    "    print('AUTOENCODER TYPE = {}'.format(autoencoder_type))\n",
    "    create_CSV_files_from_experiment(\n",
    "        AutoencoderCsvCreator(AutoencoderConfiguration(\n",
    "            autoencoder_type,\n",
    "            get_senoidal_prefixes(), \n",
    "            windows=get_senoidal_windows_autoencoder()\n",
    "        )), \n",
    "        path.join('1_series_periodicas'),\n",
    "        'CSV_results',\n",
    "        autoencoder_type,\n",
    "        get_legend_label_for_displacements_chart\n",
    "    )\n"
   ]
  },
  {
   "cell_type": "markdown",
   "metadata": {},
   "source": [
    "# CSV naturales"
   ]
  },
  {
   "cell_type": "markdown",
   "metadata": {},
   "source": [
    "### MLP 2 capas"
   ]
  },
  {
   "cell_type": "code",
   "execution_count": 4,
   "metadata": {},
   "outputs": [
    {
     "name": "stdout",
     "output_type": "stream",
     "text": [
      "Finished !! 540 models\n",
      "Mejores modelos (promedio)... (2_series_naturales\\CSV_results\\MLP2_resumen.csv)\n",
      "Mejor para Grillo-Ballena, 1%: 25 0.3 ... 0.58\n",
      "Mejor para Grillo-Ballena, 2%: 25 0.3 ... 0.64\n",
      "Mejor para Grillo-Ballena, 3%: 25 0.3 ... 0.43\n",
      "Mejor para Grillo-Ballena, 5%: 25 0.3 ... 0.56\n",
      "Mejor para Grillo-Ballena, 7%: 25 0.2 ... 0.86\n",
      "Mejor para Grillo-Ballena, 10%: 25 0.3 ... 0.58\n",
      "Mejores modelos (mejor caso)... (2_series_naturales\\CSV_results\\MLP2_resumen.csv)\n",
      "Mejor para Grillo-Ballena, 1%: 25 0.3 ... 0.83\n",
      "Mejor para Grillo-Ballena, 2%: 25 0.3 ... 0.76\n",
      "Mejor para Grillo-Ballena, 3%: 20 0.2 ... 0.49\n",
      "Mejor para Grillo-Ballena, 5%: 25 0.3 ... 0.63\n",
      "Mejor para Grillo-Ballena, 7%: 25 0.2 ... 0.96\n",
      "Mejor para Grillo-Ballena, 10%: 25 0.3 ... 0.65\n",
      "Mejor para general: 25 0.3 ... 0.61\n"
     ]
    }
   ],
   "source": [
    "from csv_creator import MLP2CsvCreator\n",
    "from experiments_configuration import MLP2Configuration, get_natural_prefixes, get_natural_windows\n",
    "from charts import build_legend_entry_for_animals\n",
    "\n",
    "create_CSV_files_from_experiment(\n",
    "    MLP2CsvCreator(MLP2Configuration(get_natural_prefixes(), windows=get_natural_windows())), \n",
    "    path.join('2_series_naturales'),\n",
    "    'CSV_results',\n",
    "    'MLP2',\n",
    "    build_legend_entry_for_animals\n",
    ")"
   ]
  },
  {
   "cell_type": "markdown",
   "metadata": {},
   "source": [
    "### MLP 3 capas"
   ]
  },
  {
   "cell_type": "code",
   "execution_count": 5,
   "metadata": {},
   "outputs": [
    {
     "name": "stdout",
     "output_type": "stream",
     "text": [
      "Finished !! 1620 models\n",
      "Mejores modelos (promedio)... (2_series_naturales\\CSV_results\\MLP3_resumen.csv)\n",
      "Mejor para Grillo-Ballena, 1%: 25  5 0.2 ... 0.60\n",
      "Mejor para Grillo-Ballena, 2%: 25 10 0.2 ... 0.63\n",
      "Mejor para Grillo-Ballena, 3%: 25 15 0.2 ... 0.47\n",
      "Mejor para Grillo-Ballena, 5%: 25  5 0.3 ... 0.59\n",
      "Mejor para Grillo-Ballena, 7%: 25 15 0.2 ... 0.90\n",
      "Mejor para Grillo-Ballena, 10%: 25 15 0.3 ... 0.62\n",
      "Mejores modelos (mejor caso)... (2_series_naturales\\CSV_results\\MLP3_resumen.csv)\n",
      "Mejor para Grillo-Ballena, 1%: 25 15 0.2 ... 0.82\n",
      "Mejor para Grillo-Ballena, 2%: 25 15 0.3 ... 0.78\n",
      "Mejor para Grillo-Ballena, 3%: 25  5 0.2 ... 0.54\n",
      "Mejor para Grillo-Ballena, 5%: 25 15 0.2 ... 0.65\n",
      "Mejor para Grillo-Ballena, 7%: 25 10 0.2 ... 0.96\n",
      "Mejor para Grillo-Ballena, 10%: 25 10 0.2 ... 0.69\n",
      "Mejor para general: 25 10 0.2 ... 0.63\n"
     ]
    }
   ],
   "source": [
    "from csv_creator import MLP3CsvCreator\n",
    "from experiments_configuration import MLP3Configuration, get_natural_prefixes, get_natural_windows\n",
    "from charts import build_legend_entry_for_animals\n",
    "\n",
    "create_CSV_files_from_experiment(\n",
    "    MLP3CsvCreator(MLP3Configuration(get_natural_prefixes(), windows=get_natural_windows())), \n",
    "    path.join('2_series_naturales'),\n",
    "    'CSV_results',\n",
    "    'MLP3',\n",
    "    build_legend_entry_for_animals\n",
    ")"
   ]
  },
  {
   "cell_type": "markdown",
   "metadata": {},
   "source": [
    "### Autoencoders"
   ]
  },
  {
   "cell_type": "code",
   "execution_count": 6,
   "metadata": {},
   "outputs": [
    {
     "name": "stdout",
     "output_type": "stream",
     "text": [
      "AUTOENCODER TYPE = VAE\n",
      "Finished !! 648 models\n",
      "Mejores modelos (promedio)... (2_series_naturales\\CSV_results\\VAE_resumen.csv)\n",
      "Mejor para Grillo-Ballena, 1%: 20 10 ... 0.15\n",
      "Mejor para Grillo-Ballena, 2%: 25  5 ... 0.33\n",
      "Mejor para Grillo-Ballena, 3%: 20 15 ... 0.14\n",
      "Mejor para Grillo-Ballena, 5%: 15 10 ... 0.39\n",
      "Mejor para Grillo-Ballena, 7%: 15  5 ... 0.37\n",
      "Mejor para Grillo-Ballena, 10%: 25 10 ... 0.29\n",
      "Mejores modelos (mejor caso)... (2_series_naturales\\CSV_results\\VAE_resumen.csv)\n",
      "Mejor para Grillo-Ballena, 1%: 25 15 ... 0.19\n",
      "Mejor para Grillo-Ballena, 2%: 25 15 ... 0.44\n",
      "Mejor para Grillo-Ballena, 3%: 25 15 ... 0.22\n",
      "Mejor para Grillo-Ballena, 5%: 25 15 ... 0.42\n",
      "Mejor para Grillo-Ballena, 7%: 25 15 ... 0.45\n",
      "Mejor para Grillo-Ballena, 10%: 25  5 ... 0.33\n",
      "Mejor para general: 25 15 ... 0.28\n",
      "AUTOENCODER TYPE = AE\n",
      "Finished !! 648 models\n",
      "Mejores modelos (promedio)... (2_series_naturales\\CSV_results\\AE_resumen.csv)\n",
      "Mejor para Grillo-Ballena, 1%: 15 10 ... 0.62\n",
      "Mejor para Grillo-Ballena, 2%: 20 10 ... 0.67\n",
      "Mejor para Grillo-Ballena, 3%: 25 10 ... 0.39\n",
      "Mejor para Grillo-Ballena, 5%: 15  5 ... 0.57\n",
      "Mejor para Grillo-Ballena, 7%: 20 15 ... 0.79\n",
      "Mejor para Grillo-Ballena, 10%: 25 10 ... 0.46\n",
      "Mejores modelos (mejor caso)... (2_series_naturales\\CSV_results\\AE_resumen.csv)\n",
      "Mejor para Grillo-Ballena, 1%: 25 15 ... 0.76\n",
      "Mejor para Grillo-Ballena, 2%: 20 15 ... 0.80\n",
      "Mejor para Grillo-Ballena, 3%: 15  5 ... 0.51\n",
      "Mejor para Grillo-Ballena, 5%: 20  5 ... 0.66\n",
      "Mejor para Grillo-Ballena, 7%: 20 15 ... 0.90\n",
      "Mejor para Grillo-Ballena, 10%: 20 15 ... 0.54\n",
      "Mejor para general: 20 10 ... 0.58\n"
     ]
    }
   ],
   "source": [
    "from csv_creator import AutoencoderCsvCreator\n",
    "from experiments_configuration import AutoencoderConfiguration, get_natural_prefixes, get_natural_windows_autoencoder\n",
    "from charts import build_legend_entry_for_animals\n",
    "\n",
    "\n",
    "for autoencoder_type in ['VAE', 'AE']:\n",
    "    print('AUTOENCODER TYPE = {}'.format(autoencoder_type))\n",
    "    create_CSV_files_from_experiment(\n",
    "        AutoencoderCsvCreator(AutoencoderConfiguration(\n",
    "            autoencoder_type,\n",
    "            get_natural_prefixes(), \n",
    "            windows=get_natural_windows_autoencoder()\n",
    "        )), \n",
    "        path.join('2_series_naturales'),\n",
    "        'CSV_results',\n",
    "        autoencoder_type,\n",
    "        build_legend_entry_for_animals\n",
    "    )\n"
   ]
  },
  {
   "cell_type": "code",
   "execution_count": null,
   "metadata": {},
   "outputs": [],
   "source": []
  }
 ],
 "metadata": {
  "kernelspec": {
   "display_name": "Python 3",
   "language": "python",
   "name": "python3"
  },
  "language_info": {
   "codemirror_mode": {
    "name": "ipython",
    "version": 3
   },
   "file_extension": ".py",
   "mimetype": "text/x-python",
   "name": "python",
   "nbconvert_exporter": "python",
   "pygments_lexer": "ipython3",
   "version": "3.8.5"
  }
 },
 "nbformat": 4,
 "nbformat_minor": 4
}
